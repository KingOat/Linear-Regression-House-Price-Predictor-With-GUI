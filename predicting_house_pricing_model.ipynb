{
 "cells": [
  {
   "attachments": {},
   "cell_type": "markdown",
   "metadata": {},
   "source": [
    "# Importing libraries & loading data"
   ]
  },
  {
   "cell_type": "code",
   "execution_count": 18,
   "metadata": {},
   "outputs": [],
   "source": [
    "import pandas as pd\n",
    "\n",
    "database = pd.read_csv(\"data_house.csv\")\n",
    "\n",
    "selected_features_labels = [\"bedrooms\", \"bathrooms\", \"floors\", \"yr_built\", \"yr_renovated\"]\n",
    "\n",
    "selected_features = database[selected_features_labels]\n",
    "price = database[\"price\"]"
   ]
  },
  {
   "attachments": {},
   "cell_type": "markdown",
   "metadata": {},
   "source": [
    "# Preprocessing"
   ]
  },
  {
   "cell_type": "code",
   "execution_count": 19,
   "metadata": {},
   "outputs": [
    {
     "name": "stdout",
     "output_type": "stream",
     "text": [
      "price doesn't have null values.\n",
      "bedrooms doesn't have null values.\n",
      "bathrooms doesn't have null values.\n",
      "floors doesn't have null values.\n",
      "yr_built doesn't have null values.\n",
      "yr_renovated doesn't have null values.\n",
      "\n",
      "\n",
      "Training set size: 17290\n",
      "Test set size: 4323\n",
      "75000.0 7700000.0\n"
     ]
    }
   ],
   "source": [
    "from sklearn.model_selection import train_test_split\n",
    "\n",
    "# Checking for null values\n",
    "has_null_values = False\n",
    "for column_label in [\"price\", *selected_features_labels]:\n",
    "    if any(database[column_label].isnull()): has_null_values = True\n",
    "    verdict = \"has\" if any(database[column_label].isnull()) else \"doesn't have\"\n",
    "    print(f\"{column_label} {verdict} null values.\")\n",
    "print(\"\\n\")\n",
    "\n",
    "if not has_null_values:\n",
    "    # Normalizing price column\n",
    "    price_min, price_max = price.min(), price.max()\n",
    "    price = (price - price_min) / (price_max - price_min)\n",
    "    \n",
    "    # Split the data into training and test sets\n",
    "    X_train, X_test, y_train, y_test = train_test_split(selected_features, price, test_size=0.2, random_state=42)\n",
    "\n",
    "    # Print the sizes of the resulting sets\n",
    "    print(f\"Training set size: {len(X_train)}\")\n",
    "    print(f\"Test set size: {len(X_test)}\")"
   ]
  },
  {
   "attachments": {},
   "cell_type": "markdown",
   "metadata": {},
   "source": [
    "# Buidling, training & evaluating the model. "
   ]
  },
  {
   "cell_type": "code",
   "execution_count": 15,
   "metadata": {},
   "outputs": [
    {
     "name": "stdout",
     "output_type": "stream",
     "text": [
      "Test loss: 0.0018\n"
     ]
    }
   ],
   "source": [
    "from keras.models import Sequential\n",
    "from keras.layers import Dense\n",
    "\n",
    "# Build the model\n",
    "model = Sequential()\n",
    "model.add(Dense(1, input_dim=len(selected_features_labels))) # linear layer or an identity layer.\n",
    "\n",
    "# Compile the model\n",
    "model.compile(optimizer='adam', loss='mean_squared_error') # Adaptive Moment Estimation\n",
    "\n",
    "# Fit the model to the data\n",
    "model.fit(X_train, y_train, epochs=50, batch_size=10, verbose=0)\n",
    "\n",
    "# Evaluate the model on the test set\n",
    "loss = model.evaluate(X_test, y_test, verbose=0)\n",
    "print(f'Test loss: {loss:.4f}')"
   ]
  },
  {
   "attachments": {},
   "cell_type": "markdown",
   "metadata": {},
   "source": [
    "# Saving & exporting the model."
   ]
  },
  {
   "cell_type": "code",
   "execution_count": 16,
   "metadata": {},
   "outputs": [],
   "source": [
    "# Saving the model\n",
    "model.save(\"model.h5\")"
   ]
  },
  {
   "cell_type": "code",
   "execution_count": null,
   "metadata": {},
   "outputs": [],
   "source": []
  }
 ],
 "metadata": {
  "kernelspec": {
   "display_name": "Python 3",
   "language": "python",
   "name": "python3"
  },
  "language_info": {
   "codemirror_mode": {
    "name": "ipython",
    "version": 3
   },
   "file_extension": ".py",
   "mimetype": "text/x-python",
   "name": "python",
   "nbconvert_exporter": "python",
   "pygments_lexer": "ipython3",
   "version": "3.9.7"
  },
  "orig_nbformat": 4,
  "vscode": {
   "interpreter": {
    "hash": "653067a237e4127de8831c5823e288c3c3b716f089630f50c347eda381d9b4b3"
   }
  }
 },
 "nbformat": 4,
 "nbformat_minor": 2
}
